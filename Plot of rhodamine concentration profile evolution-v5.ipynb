{
 "cells": [
  {
   "cell_type": "markdown",
   "metadata": {},
   "source": [
    "# Plot of rhodamine concentration profile evolution\n",
    "\n",
    "Welcome to this notebook ! The code below has been developed to analyse the confocal images obtained during the freezing of emulsions. The results have been reported in the following paper:\n",
    "\"5D imaging of freezing emulsions with solute effects\", by Dmytro Dedovets, Cécile Monteux, and Sylvain Deville, and published in Science in 2018.\n",
    "\n",
    "If you want to use this code and the data we provided, you should organise your files as follows. Create a main directory with 2 subdirectory:\n",
    "- \"code\": put the notebooks here\n",
    "- \"data\": put the data here\n",
    "\n",
    "This notebook reads two sequences of confocal images: one with the ice and water+rhodamine, and another one with the object (droplet+surfactant). The intensity profile is used to measure the concentration of rhodamine and its evolution.\n",
    "\n",
    "The concentration ahead and behind the oil droplet in measured, as well as the thickness of the \n",
    "liquid film ahead of the oil droplet.\n",
    "\n",
    "\n",
    "Feedback is welcome, keep in touch with us if you want to discuss anything,"
   ]
  },
  {
   "cell_type": "code",
   "execution_count": 1,
   "metadata": {},
   "outputs": [],
   "source": [
    "#!/usr/bin/python\n",
    "# -*- coding: utf-8 -*-\n",
    "from __future__ import division, unicode_literals, print_function  # for compatibility with Python 2 and 3\n",
    "\n",
    "import matplotlib as mpl\n",
    "import matplotlib.pyplot as plt\n",
    "from mpl_toolkits.mplot3d import Axes3D\n",
    "\n",
    "# change the following to %matplotlib notebook for interactive plotting\n",
    "%matplotlib inline\n",
    "\n",
    "import numpy as np\n",
    "import pandas as pd\n",
    "from pandas import DataFrame, Series  # for convenience\n",
    "import os\n",
    "import pims\n",
    "import trackpy as tp\n",
    "import time\n",
    "import skimage as sk\n",
    "from IPython import display\n",
    "from IPython.display import clear_output\n",
    "import ipywidgets as widgets"
   ]
  },
  {
   "cell_type": "code",
   "execution_count": 2,
   "metadata": {
    "collapsed": true
   },
   "outputs": [],
   "source": [
    "from IPython.display import display"
   ]
  },
  {
   "cell_type": "markdown",
   "metadata": {},
   "source": [
    "## Constants and calibration (space and time)"
   ]
  },
  {
   "cell_type": "code",
   "execution_count": 3,
   "metadata": {
    "collapsed": true
   },
   "outputs": [],
   "source": [
    "#spf = 5.162 # seconds per frame\n",
    "#mpf = 1/1.7617 # microns per frame\n",
    "\n",
    "\n",
    "#for 16.075A\n",
    "spf = 2.943 # seconds per frame\n",
    "mpf = 775/1024 # microns per pixels\n",
    "\n",
    "# 1.7617 pixel per microns"
   ]
  },
  {
   "cell_type": "markdown",
   "metadata": {},
   "source": [
    "## Load the data (tiff stack)"
   ]
  },
  {
   "cell_type": "code",
   "execution_count": 3,
   "metadata": {
    "collapsed": true
   },
   "outputs": [],
   "source": [
    "data = pims.TiffStack('../data/DD16.075A(1mkm-sec)_2-Series007-3-solute.tif')\n",
    "data_particle = pims.TiffStack('../data/DD16.075A(1mkm-sec)_2-Series007-3-particle-filtered.tif')\n",
    "\n",
    "#data = pims.TiffStack('../data/DD17017C(5C-mm2mkm-sec3D).tif')\n",
    "#data_particle = pims.TiffStack('../data/DD17017C(5C-mm2mkm-sec3D)particle.tif')"
   ]
  },
  {
   "cell_type": "markdown",
   "metadata": {},
   "source": [
    "## Function to detect the peaks the intensity profile"
   ]
  },
  {
   "cell_type": "code",
   "execution_count": 6,
   "metadata": {},
   "outputs": [],
   "source": [
    "# %load functions/detect_peaks.py\n",
    "\"\"\"Detect peaks in data based on their amplitude and other features.\"\"\"\n",
    "\n",
    "from __future__ import division, print_function\n",
    "import numpy as np\n",
    "\n",
    "__author__ = \"Marcos Duarte, https://github.com/demotu/BMC\"\n",
    "__version__ = \"1.0.4\"\n",
    "__license__ = \"MIT\"\n",
    "\n",
    "\n",
    "def detect_peaks(x, mph=None, mpd=1, threshold=0, edge='rising',\n",
    "                 kpsh=False, valley=False, show=False, ax=None):\n",
    "\n",
    "    \"\"\"Detect peaks in data based on their amplitude and other features.\n",
    "\n",
    "    Parameters\n",
    "    ----------\n",
    "    x : 1D array_like\n",
    "        data.\n",
    "    mph : {None, number}, optional (default = None)\n",
    "        detect peaks that are greater than minimum peak height.\n",
    "    mpd : positive integer, optional (default = 1)\n",
    "        detect peaks that are at least separated by minimum peak distance (in\n",
    "        number of data).\n",
    "    threshold : positive number, optional (default = 0)\n",
    "        detect peaks (valleys) that are greater (smaller) than `threshold`\n",
    "        in relation to their immediate neighbors.\n",
    "    edge : {None, 'rising', 'falling', 'both'}, optional (default = 'rising')\n",
    "        for a flat peak, keep only the rising edge ('rising'), only the\n",
    "        falling edge ('falling'), both edges ('both'), or don't detect a\n",
    "        flat peak (None).\n",
    "    kpsh : bool, optional (default = False)\n",
    "        keep peaks with same height even if they are closer than `mpd`.\n",
    "    valley : bool, optional (default = False)\n",
    "        if True (1), detect valleys (local minima) instead of peaks.\n",
    "    show : bool, optional (default = False)\n",
    "        if True (1), plot data in matplotlib figure.\n",
    "    ax : a matplotlib.axes.Axes instance, optional (default = None).\n",
    "\n",
    "    Returns\n",
    "    -------\n",
    "    ind : 1D array_like\n",
    "        indeces of the peaks in `x`.\n",
    "\n",
    "    Notes\n",
    "    -----\n",
    "    The detection of valleys instead of peaks is performed internally by simply\n",
    "    negating the data: `ind_valleys = detect_peaks(-x)`\n",
    "    \n",
    "    The function can handle NaN's \n",
    "\n",
    "    See this IPython Notebook [1]_.\n",
    "\n",
    "    References\n",
    "    ----------\n",
    "    .. [1] http://nbviewer.ipython.org/github/demotu/BMC/blob/master/notebooks/DetectPeaks.ipynb\n",
    "\n",
    "    Examples\n",
    "    --------\n",
    "    >>> from detect_peaks import detect_peaks\n",
    "    >>> x = np.random.randn(100)\n",
    "    >>> x[60:81] = np.nan\n",
    "    >>> # detect all peaks and plot data\n",
    "    >>> ind = detect_peaks(x, show=True)\n",
    "    >>> print(ind)\n",
    "\n",
    "    >>> x = np.sin(2*np.pi*5*np.linspace(0, 1, 200)) + np.random.randn(200)/5\n",
    "    >>> # set minimum peak height = 0 and minimum peak distance = 20\n",
    "    >>> detect_peaks(x, mph=0, mpd=20, show=True)\n",
    "\n",
    "    >>> x = [0, 1, 0, 2, 0, 3, 0, 2, 0, 1, 0]\n",
    "    >>> # set minimum peak distance = 2\n",
    "    >>> detect_peaks(x, mpd=2, show=True)\n",
    "\n",
    "    >>> x = np.sin(2*np.pi*5*np.linspace(0, 1, 200)) + np.random.randn(200)/5\n",
    "    >>> # detection of valleys instead of peaks\n",
    "    >>> detect_peaks(x, mph=0, mpd=20, valley=True, show=True)\n",
    "\n",
    "    >>> x = [0, 1, 1, 0, 1, 1, 0]\n",
    "    >>> # detect both edges\n",
    "    >>> detect_peaks(x, edge='both', show=True)\n",
    "\n",
    "    >>> x = [-2, 1, -2, 2, 1, 1, 3, 0]\n",
    "    >>> # set threshold = 2\n",
    "    >>> detect_peaks(x, threshold = 2, show=True)\n",
    "    \"\"\"\n",
    "\n",
    "    x = np.atleast_1d(x).astype('float64')\n",
    "    if x.size < 3:\n",
    "        return np.array([], dtype=int)\n",
    "    if valley:\n",
    "        x = -x\n",
    "    # find indices of all peaks\n",
    "    dx = x[1:] - x[:-1]\n",
    "    # handle NaN's\n",
    "    indnan = np.where(np.isnan(x))[0]\n",
    "    if indnan.size:\n",
    "        x[indnan] = np.inf\n",
    "        dx[np.where(np.isnan(dx))[0]] = np.inf\n",
    "    ine, ire, ife = np.array([[], [], []], dtype=int)\n",
    "    if not edge:\n",
    "        ine = np.where((np.hstack((dx, 0)) < 0) & (np.hstack((0, dx)) > 0))[0]\n",
    "    else:\n",
    "        if edge.lower() in ['rising', 'both']:\n",
    "            ire = np.where((np.hstack((dx, 0)) <= 0) & (np.hstack((0, dx)) > 0))[0]\n",
    "        if edge.lower() in ['falling', 'both']:\n",
    "            ife = np.where((np.hstack((dx, 0)) < 0) & (np.hstack((0, dx)) >= 0))[0]\n",
    "    ind = np.unique(np.hstack((ine, ire, ife)))\n",
    "    # handle NaN's\n",
    "    if ind.size and indnan.size:\n",
    "        # NaN's and values close to NaN's cannot be peaks\n",
    "        ind = ind[np.in1d(ind, np.unique(np.hstack((indnan, indnan-1, indnan+1))), invert=True)]\n",
    "    # first and last values of x cannot be peaks\n",
    "    if ind.size and ind[0] == 0:\n",
    "        ind = ind[1:]\n",
    "    if ind.size and ind[-1] == x.size-1:\n",
    "        ind = ind[:-1]\n",
    "    # remove peaks < minimum peak height\n",
    "    if ind.size and mph is not None:\n",
    "        ind = ind[x[ind] >= mph]\n",
    "    # remove peaks - neighbors < threshold\n",
    "    if ind.size and threshold > 0:\n",
    "        dx = np.min(np.vstack([x[ind]-x[ind-1], x[ind]-x[ind+1]]), axis=0)\n",
    "        ind = np.delete(ind, np.where(dx < threshold)[0])\n",
    "    # detect small peaks closer than minimum peak distance\n",
    "    if ind.size and mpd > 1:\n",
    "        ind = ind[np.argsort(x[ind])][::-1]  # sort ind by peak height\n",
    "        idel = np.zeros(ind.size, dtype=bool)\n",
    "        for i in range(ind.size):\n",
    "            if not idel[i]:\n",
    "                # keep peaks with the same height if kpsh is True\n",
    "                idel = idel | (ind >= ind[i] - mpd) & (ind <= ind[i] + mpd) \\\n",
    "                    & (x[ind[i]] > x[ind] if kpsh else True)\n",
    "                idel[i] = 0  # Keep current peak\n",
    "        # remove the small peaks and sort back the indices by their occurrence\n",
    "        ind = np.sort(ind[~idel])\n",
    "\n",
    "    if show:\n",
    "        if indnan.size:\n",
    "            x[indnan] = np.nan\n",
    "        if valley:\n",
    "            x = -x\n",
    "        _plot(x, mph, mpd, threshold, edge, valley, ax, ind)\n",
    "\n",
    "    return ind\n",
    "\n",
    "\n",
    "def _plot(x, mph, mpd, threshold, edge, valley, ax, ind):\n",
    "    \"\"\"Plot results of the detect_peaks function, see its help.\"\"\"\n",
    "    try:\n",
    "        import matplotlib.pyplot as plt\n",
    "    except ImportError:\n",
    "        print('matplotlib is not available.')\n",
    "    else:\n",
    "        if ax is None:\n",
    "            _, ax = plt.subplots(1, 1, figsize=(8, 4))\n",
    "\n",
    "        ax.plot(x, 'b', lw=1)\n",
    "        if ind.size:\n",
    "            label = 'valley' if valley else 'peak'\n",
    "            label = label + 's' if ind.size > 1 else label\n",
    "            ax.plot(ind, x[ind], '+', mfc=None, mec='r', mew=2, ms=8,\n",
    "                    label='%d %s' % (ind.size, label))\n",
    "            ax.legend(loc='best', framealpha=.5, numpoints=1)\n",
    "        ax.set_xlim(-.02*x.size, x.size*1.02-1)\n",
    "        ymin, ymax = x[np.isfinite(x)].min(), x[np.isfinite(x)].max()\n",
    "        yrange = ymax - ymin if ymax > ymin else 1\n",
    "        ax.set_ylim(ymin - 0.1*yrange, ymax + 0.1*yrange)\n",
    "        ax.set_xlabel('Data #', fontsize=14)\n",
    "        ax.set_ylabel('Amplitude', fontsize=14)\n",
    "        mode = 'Valley detection' if valley else 'Peak detection'\n",
    "        ax.set_title(\"%s (mph=%s, mpd=%d, threshold=%s, edge='%s')\"\n",
    "                     % (mode, str(mph), mpd, str(threshold), edge))\n",
    "        # plt.grid()\n",
    "        plt.show()"
   ]
  },
  {
   "cell_type": "markdown",
   "metadata": {},
   "source": [
    "## Detect the peak in the frame sequence"
   ]
  },
  {
   "cell_type": "code",
   "execution_count": 7,
   "metadata": {},
   "outputs": [],
   "source": [
    "front_peak = []\n",
    "back_peak = []\n",
    "front_position = []\n",
    "back_position = []\n",
    "particle_position = []\n",
    "\n",
    "for i, frame in enumerate(data[0:130]): #just the first XX frames\n",
    "    # look at the solute channel\n",
    "    ys = data[i][40:70] # get a 20 pixel wide section\n",
    "    ys = np.average(ys, axis=0) #average along the width to remove the noise\n",
    "    ind = detect_peaks(ys, show=False, edge='both',mph=10, mpd=50)\n",
    "    # look at the particle channel\n",
    "    ys_particle = data_particle[i][45:65] # get a 20 pixel wide section\n",
    "    ys_particle = np.average(ys_particle, axis=0) #average along the width to remove the noise\n",
    "    diff_particle = np.diff(ys_particle)\n",
    "    left_side = np.argmax(diff_particle)\n",
    "    right_side = np.argmin(diff_particle)\n",
    "    particle_position_frame = (left_side + right_side)/2\n",
    "    #ind_particle = detect_peaks(ys_particle, show=False, edge='both',mph=18, mpd=50)\n",
    "    \n",
    "    # Test if the first peak is before the particle\n",
    "    if ind[0]<particle_position_frame:\n",
    "        front_value = ys[ind[0]] # get the value of intensity at the position of the peak\n",
    "        back_value = ys[ind[1]]\n",
    "        front_position.append(ind[0])\n",
    "        back_position.append(ind[1])\n",
    "    # if the first peak is after the particle, write 0 for first peak\n",
    "    else:\n",
    "        front_value = 0\n",
    "        back_value = ys[ind[0]]\n",
    "        front_position.append(0)\n",
    "        back_position.append(ind[0])\n",
    "    \n",
    "    particle_position.append(particle_position_frame)\n",
    "    \n",
    "    front_peak.append(front_value)\n",
    "    back_peak.append(back_value)"
   ]
  },
  {
   "cell_type": "markdown",
   "metadata": {},
   "source": [
    "## Plot the peak intensity vs time (Fig 4C of the paper)"
   ]
  },
  {
   "cell_type": "code",
   "execution_count": 10,
   "metadata": {},
   "outputs": [
    {
     "data": {
      "image/png": "[encoded data removed]",
      "text/plain": [
       "<matplotlib.figure.Figure at 0x113b2e410>"
      ]
     },
     "metadata": {},
     "output_type": "display_data"
    }
   ],
   "source": [
    "plt.style.use('ggplot')\n",
    "#plt.figure(figsize=(3, 3))\n",
    "\n",
    "fig = plt.figure(figsize=(3.2, 3))\n",
    "ax = fig.add_subplot(111)\n",
    "\n",
    "major_xticks = np.arange(0, 400, 100)\n",
    "ax.set_xticks(major_xticks)\n",
    "x = range(len(front_peak))\n",
    "x_values = [item*spf for item in x]\n",
    "front = plt.scatter(x_values, front_peak, color='red', edgecolor='black', label='Front peak')\n",
    "back = plt.scatter(x_values, back_peak, edgecolor='black', label='Back peak')\n",
    "plt.xlabel('Time (s)')\n",
    "plt.ylabel('Solute concentration (a.u.)')\n",
    "plt.xlim(-10, np.amax(x_values))\n",
    "#ax.set_xticklabels([])\n",
    "#ax.set_yticklabels([])\n",
    "#plt.legend(handles=[front, back], loc='upper left');\n",
    "plt.tight_layout()\n",
    "plt.savefig('../results/plot_concentration_front_back.eps', dpi=600)"
   ]
  },
  {
   "cell_type": "markdown",
   "metadata": {},
   "source": [
    "## Function to measure the width of the peak\n",
    "\n",
    "found here: http://stackoverflow.com/questions/10582795/finding-the-full-width-half-maximum-of-a-peak"
   ]
  },
  {
   "cell_type": "code",
   "execution_count": 11,
   "metadata": {
    "collapsed": true
   },
   "outputs": [],
   "source": [
    "from scipy.interpolate import splrep, sproot, splev\n",
    "\n",
    "def fwhm(x, y, k=10):\n",
    "    \"\"\"\n",
    "    Determine full-with-half-maximum of a peaked set of points, x and y.\n",
    "\n",
    "    Assumes that there is only one peak present in the datasset.  The function\n",
    "    uses a spline interpolation of order k.\n",
    "    \"\"\"\n",
    "\n",
    "    class MultiplePeaks(Exception): pass\n",
    "    class NoPeaksFound(Exception): pass\n",
    "\n",
    "    #half_max = np.amax(y)*0.5\n",
    "    half_max = 9 # look at the width of the peak where the solute concentration = 10 (a.u.)\n",
    "    # i.e. we want to measure the width of the peak at its base\n",
    "    s = splrep(x, y - half_max)\n",
    "    roots = sproot(s)\n",
    "\n",
    "    if len(roots) > 2:\n",
    "        raise MultiplePeaks(\"The dataset appears to have multiple peaks, and \"\n",
    "                \"thus the FWHM can't be determined.\")\n",
    "    elif len(roots) < 2:\n",
    "        raise NoPeaksFound(\"No proper peaks were found in the data set; likely \"\n",
    "                \"the dataset is flat (e.g. all zeros).\")\n",
    "    else:\n",
    "        return abs(roots[1] - roots[0])"
   ]
  },
  {
   "cell_type": "markdown",
   "metadata": {},
   "source": [
    "## Measure the width of the front peak"
   ]
  },
  {
   "cell_type": "code",
   "execution_count": 12,
   "metadata": {},
   "outputs": [
    {
     "name": "stderr",
     "output_type": "stream",
     "text": [
      "/Users/sylvaindeville/anaconda/lib/python2.7/site-packages/ipykernel/__main__.py:8: DeprecationWarning: using a non-integer number instead of an integer will result in an error in the future\n"
     ]
    }
   ],
   "source": [
    "front_width = []\n",
    "for i in range(0,130,1):\n",
    "    ys = data[i][40:70] # get a 20 pixel wide section\n",
    "    ys = np.average(ys, axis=0) #average along the width to remove the noise\n",
    "    ind = detect_peaks(ys, show=False, edge='both',mph=15, mpd=50)\n",
    "    front_value = ind[0] # get the value of intensity at the position of the peak\n",
    "    if ind[0]<particle_position[i]:\n",
    "        Y = ys[0:particle_position[i]] # select only the first peak. stop the intensity profile at the position of the center of the particle\n",
    "        X = range(0,len(Y), 1)\n",
    "        width = fwhm(X,Y)\n",
    "    else:\n",
    "        width = 0\n",
    "#    width = fwhm(X,Y)\n",
    "    front_width.append(width)\n",
    "    \n"
   ]
  },
  {
   "cell_type": "code",
   "execution_count": 13,
   "metadata": {
    "collapsed": true
   },
   "outputs": [],
   "source": [
    "x_width = range(len(front_width))\n",
    "\n",
    "# convert from frames to seconds using the initial calibration  \n",
    "x_values_width = [item*spf for item in x_width]\n",
    "\n",
    "# Convert from pixel to microns using the initial calibration\n",
    "front_width_microns = [item*mpf for item in front_width]"
   ]
  },
  {
   "cell_type": "markdown",
   "metadata": {},
   "source": [
    "## Plot Fig 4D of the paper"
   ]
  },
  {
   "cell_type": "code",
   "execution_count": 19,
   "metadata": {},
   "outputs": [
    {
     "data": {
      "image/png": "[encoded data removed]",
      "text/plain": [
       "<matplotlib.figure.Figure at 0x115a09650>"
      ]
     },
     "metadata": {},
     "output_type": "display_data"
    }
   ],
   "source": [
    "fig, ax1 = plt.subplots(figsize=(3, 3))\n",
    "plt.xlabel(r'Premelted film thickness ($\\mu m$)')\n",
    "plt.ylabel('Solute concentration (a.u.)')\n",
    "for i in range(0,130,1):\n",
    "    color_code = (1-i/130)\n",
    "    front_plot = ax1.scatter(front_width_microns[i], front_peak[i], \n",
    "                             color=(0,color_code,1-color_code), s=40, \n",
    "                             label='Solute concentration', \n",
    "                             edgecolor='black')\n",
    "#plt.xlim(0,np.amax(x_values_width))\n",
    "#plt.legend(handles=[front_plot, width_plot]);\n",
    "#ax1.set_xticklabels([])\n",
    "#ax1.set_yticklabels([])\n",
    "plt.tight_layout()\n",
    "plt.savefig('../results/width_plot.eps', dpi=600)"
   ]
  },
  {
   "cell_type": "markdown",
   "metadata": {},
   "source": [
    "## Plot Fig 4E of the paper"
   ]
  },
  {
   "cell_type": "code",
   "execution_count": 25,
   "metadata": {},
   "outputs": [],
   "source": [
    "data = pims.TiffStack('../data/DD 16.075A(1mkm-sec)_2-Series007-3.tif')\n",
    "mpf = 1/2.2462 # microns per pixels"
   ]
  },
  {
   "cell_type": "code",
   "execution_count": 26,
   "metadata": {},
   "outputs": [],
   "source": [
    "selection = data[0][45:50] # get a 20 pixel wide section\n",
    "average_profile = np.average(selection, axis=0)"
   ]
  },
  {
   "cell_type": "code",
   "execution_count": 39,
   "metadata": {},
   "outputs": [
    {
     "data": {
      "image/png": "[encoded data removed]",
      "text/plain": [
       "<matplotlib.figure.Figure at 0x11454b350>"
      ]
     },
     "metadata": {},
     "output_type": "display_data"
    }
   ],
   "source": [
    "#data2 = pims.TiffStack('../data/DD 16.075A(1mkm-sec)_2-Series007-3.tif')\n",
    "\n",
    "plt.style.use('ggplot')\n",
    "fig, ax1 = plt.subplots(figsize=(3.5, 3))\n",
    "plt.xlabel(r'Distance ($\\mu m$)')\n",
    "plt.ylabel('Solute concentration \\n (a.u.)')\n",
    "#ax1.axes.get_xaxis().set_ticklabels([])\n",
    "#ax1.axes.get_yaxis().set_ticklabels([])\n",
    "#ax1.set_xticks([]) \n",
    "#ax1.set_yticks([]) \n",
    "cax = plt.imshow(data[0])\n",
    "plt.xlim(0,160)\n",
    "plt.ylim(0,115)\n",
    "ax1.grid(False)\n",
    "# Add colorbar, make sure to specify tick locations to match desired ticklabels\n",
    "cbar = fig.colorbar(cax, shrink=0.3,\n",
    "                    aspect=10,pad=0.02, ticks=None, orientation='vertical'  )\n",
    "cbar.ax.set_xticklabels('')  # vertically oriented colorbar\n",
    "cbar.set_ticks([-10,300])\n",
    "plt.plot(average_profile/2+50, color=\"white\")\n",
    "plt.tight_layout()\n",
    "plot_filename = '../results/premelting_profile.eps'\n",
    "plt.savefig(plot_filename, dpi=600)"
   ]
  },
  {
   "cell_type": "code",
   "execution_count": 40,
   "metadata": {},
   "outputs": [
    {
     "data": {
      "application/json": {
       "Software versions": [
        {
         "module": "Python",
         "version": "2.7.12 64bit [GCC 4.2.1 (Based on Apple Inc. build 5658) (LLVM build 2336.11.00)]"
        },
        {
         "module": "IPython",
         "version": "4.2.0"
        },
        {
         "module": "OS",
         "version": "Darwin 17.3.0 x86_64 i386 64bit"
        },
        {
         "module": "numpy",
         "version": "1.9.3"
        },
        {
         "module": "scipy",
         "version": "0.17.1"
        },
        {
         "module": "matplotlib",
         "version": "1.4.3"
        },
        {
         "module": "pandas",
         "version": "0.16.2"
        },
        {
         "module": "trackpy",
         "version": "0.3.1"
        },
        {
         "module": "skimage",
         "version": "0.11.3"
        }
       ]
      },
      "text/html": [
       "<table><tr><th>Software</th><th>Version</th></tr><tr><td>Python</td><td>2.7.12 64bit [GCC 4.2.1 (Based on Apple Inc. build 5658) (LLVM build 2336.11.00)]</td></tr><tr><td>IPython</td><td>4.2.0</td></tr><tr><td>OS</td><td>Darwin 17.3.0 x86_64 i386 64bit</td></tr><tr><td>numpy</td><td>1.9.3</td></tr><tr><td>scipy</td><td>0.17.1</td></tr><tr><td>matplotlib</td><td>1.4.3</td></tr><tr><td>pandas</td><td>0.16.2</td></tr><tr><td>trackpy</td><td>0.3.1</td></tr><tr><td>skimage</td><td>0.11.3</td></tr><tr><td colspan='2'>Wed Jan 24 13:41:54 2018 CET</td></tr></table>"
      ],
      "text/latex": [
       "\\begin{tabular}{|l|l|}\\hline\n",
       "{\\bf Software} & {\\bf Version} \\\\ \\hline\\hline\n",
       "Python & 2.7.12 64bit [GCC 4.2.1 (Based on Apple Inc. build 5658) (LLVM build 2336.11.00)] \\\\ \\hline\n",
       "IPython & 4.2.0 \\\\ \\hline\n",
       "OS & Darwin 17.3.0 x86\\_64 i386 64bit \\\\ \\hline\n",
       "numpy & 1.9.3 \\\\ \\hline\n",
       "scipy & 0.17.1 \\\\ \\hline\n",
       "matplotlib & 1.4.3 \\\\ \\hline\n",
       "pandas & 0.16.2 \\\\ \\hline\n",
       "trackpy & 0.3.1 \\\\ \\hline\n",
       "skimage & 0.11.3 \\\\ \\hline\n",
       "\\hline \\multicolumn{2}{|l|}{Wed Jan 24 13:41:54 2018 CET} \\\\ \\hline\n",
       "\\end{tabular}\n"
      ],
      "text/plain": [
       "Software versions\n",
       "Python 2.7.12 64bit [GCC 4.2.1 (Based on Apple Inc. build 5658) (LLVM build 2336.11.00)]\n",
       "IPython 4.2.0\n",
       "OS Darwin 17.3.0 x86_64 i386 64bit\n",
       "numpy 1.9.3\n",
       "scipy 0.17.1\n",
       "matplotlib 1.4.3\n",
       "pandas 0.16.2\n",
       "trackpy 0.3.1\n",
       "skimage 0.11.3\n",
       "Wed Jan 24 13:41:54 2018 CET"
      ]
     },
     "execution_count": 40,
     "metadata": {},
     "output_type": "execute_result"
    }
   ],
   "source": [
    "#%install_ext http://raw.github.com/jrjohansson/version_information/master/version_information.py\\n\",\n",
    "# you need to run the line above only once\n",
    "%load_ext version_information\n",
    "%reload_ext version_information\n",
    "%version_information numpy, scipy, matplotlib, pandas, trackpy, skimage"
   ]
  }
 ],
 "metadata": {
  "kernelspec": {
   "display_name": "Python 3",
   "language": "python",
   "name": "python3"
  },
  "language_info": {
   "codemirror_mode": {
    "name": "ipython",
    "version": 3
   },
   "file_extension": ".py",
   "mimetype": "text/x-python",
   "name": "python",
   "nbconvert_exporter": "python",
   "pygments_lexer": "ipython3",
   "version": "3.6.3"
  }
 },
 "nbformat": 4,
 "nbformat_minor": 1
}
