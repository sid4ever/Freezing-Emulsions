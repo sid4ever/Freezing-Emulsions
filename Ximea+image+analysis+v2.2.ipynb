{
 "cells": [
  {
   "cell_type": "code",
   "execution_count": 28,
   "metadata": {},
   "outputs": [
    {
     "name": "stdout",
     "output_type": "stream",
     "text": [
      "4.16.00\n"
     ]
    }
   ],
   "source": [
    "import ximea\n",
    "print(ximea.__version__)"
   ]
  },
  {
   "cell_type": "code",
   "execution_count": 29,
   "metadata": {},
   "outputs": [],
   "source": [
    "#!/usr/bin/python\n",
    "# -*- coding: utf-8 -*-\n",
    "#from __future__ import division, unicode_literals, print_function  # for compatibility with Python 2 and 3\n",
    "\n",
    "import matplotlib as mpl\n",
    "import matplotlib.pyplot as plt\n",
    "import matplotlib.animation as animation\n",
    "\n",
    "# change the following to %matplotlib notebook for interactive plotting\n",
    "%matplotlib qt5\n",
    "\n",
    "\n",
    "# Optionally, tweak styles.\n",
    "mpl.rc('figure',  figsize=(10, 6)) # defaut figure size\n",
    "mpl.rc('image', cmap='gray')\n",
    "\n",
    "import numpy as np\n",
    "import pandas as pd\n",
    "from pandas import DataFrame, Series  # for convenience\n",
    "\n",
    "import pims # to read the image stack\n",
    "import trackpy as tp # for particle tracking\n",
    "import time\n",
    "import skimage as sk\n",
    "from skimage import filters, measure\n",
    "\n",
    "from IPython import display\n",
    "from IPython.display import clear_output\n",
    "from IPython.display import display\n",
    "import ipywidgets as widgets # used for the progress bar\n",
    "\n",
    "import time\n",
    "\n",
    "from ximea import xiapi\n",
    "import cv2"
   ]
  },
  {
   "cell_type": "code",
   "execution_count": 30,
   "metadata": {
    "collapsed": true
   },
   "outputs": [],
   "source": [
    "features = pd.DataFrame()\n",
    "plt.figure(1,figsize=(6, 4))\n",
    "plt.xlabel(\"Time (s)\")\n",
    "plt.ylabel(\"Mean Diameter (microns)\")\n",
    "#plt.ylim(0,20)\n",
    "plt.ion()\n",
    "plt.show(1)"
   ]
  },
  {
   "cell_type": "code",
   "execution_count": 31,
   "metadata": {
    "collapsed": true
   },
   "outputs": [],
   "source": [
    "plt.figure(2,figsize=(5, 5))\n",
    "ax = plt.axes()\n",
    "plt.xlabel('X axis')\n",
    "plt.ylabel('Y axis')\n",
    "plt.ion()\n",
    "plt.show(2)"
   ]
  },
  {
   "cell_type": "code",
   "execution_count": 32,
   "metadata": {
    "collapsed": true
   },
   "outputs": [],
   "source": [
    "def thresholding(images):\n",
    "    \n",
    "    #gray = cv2.cvtColor(images, cv2.COLOR_BGR2GRAY)\n",
    "    gray = cv2.GaussianBlur(images, (5,5), 0)\n",
    "    maxValue = 255\n",
    "    \n",
    "    adaptiveMethod = cv2.ADAPTIVE_THRESH_GAUSSIAN_C#cv2.ADAPTIVE_THRESH_MEAN_C #cv2.ADAPTIVE_THRESH_GAUSSIAN_C\n",
    "    thresholdType = cv2.THRESH_BINARY#cv2.THRESH_BINARY #cv2.THRESH_BINARY_INV\n",
    "    blockSize = 55 #odd number like 3,5,7,9,11\n",
    "    C = 3 # constant to be subtracted\n",
    "   \n",
    "    binary = cv2.adaptiveThreshold(gray, maxValue, adaptiveMethod, thresholdType, blockSize, C) \n",
    "    test_detection(binary,gray)\n",
    "    return;"
   ]
  },
  {
   "cell_type": "code",
   "execution_count": 33,
   "metadata": {
    "collapsed": true
   },
   "outputs": [],
   "source": [
    "def test_detection(binary,gray):\n",
    "    \n",
    "    global features,ax, rect, t0, diameter \n",
    "    \n",
    "    diameter = np.array([])\n",
    "    grey = gray\n",
    "    img_example = ~binary\n",
    "    \n",
    "    image_dimensions =len(img_example)\n",
    "    \n",
    "\n",
    "    # Label elements on the picture\n",
    "    label_image = sk.measure.label(img_example)\n",
    "    \n",
    "    #fig, ax = plt.subplots(ncols=1, nrows=1, figsize=(8, 8))\n",
    "    #plt.xlabel('X axis')\n",
    "    #plt.ylabel('Y axis')\n",
    "    \n",
    "    \n",
    "    \n",
    "    for region in sk.measure.regionprops(label_image, intensity_image=img_example):\n",
    "        \n",
    "        if region.area < 200 or region.area > 800:# Everywhere, skip small and large areas\n",
    "            continue\n",
    "        \n",
    "        if region.eccentricity>0.8:\n",
    "            continue\n",
    "        \n",
    "        # exclude the objects that touches the borders\n",
    "        minr, minc, maxr, maxc = region.bbox\n",
    "        if minr==0 or minc==0 or maxr==image_dimensions or maxc==image_dimensions:\n",
    "            continue\n",
    "               \n",
    "        \n",
    "        elongation = float(region.major_axis_length)/float(region.minor_axis_length)\n",
    "        if elongation>3:\n",
    "            continue\n",
    "        \n",
    "        # Draw rectangle which survived to the criterions\n",
    "        minr, minc, maxr, maxc = region.bbox\n",
    "        rect = mpl.patches.Rectangle((minc, minr), maxc - minc, maxr - minr,\n",
    "                              fill=False, edgecolor='red', linewidth=1)\n",
    "        \n",
    "        ax.add_patch(rect)\n",
    "        \n",
    "       \n",
    "        diameter = np.append(region.equivalent_diameter,diameter)\n",
    "        \n",
    "        features = features.append([{'time':int(time.time() - t0),\n",
    "                                     'area':region.area,\n",
    "                                     'equiv_diameter':region.equivalent_diameter},])\n",
    "   \n",
    "    \n",
    "    \n",
    "   \n",
    "    plt.figure(2)\n",
    "    \n",
    "    ax.imshow(grey)\n",
    "    \n",
    "\n",
    "        \n",
    "    plt.draw()\n",
    "    plt.pause(0.001)\n",
    "\n",
    "    \n",
    "    \n",
    "    \n",
    "    \n",
    "    plt.figure(1)\n",
    "    plt.scatter((int(time.time() - t0)),(np.mean(diameter)*0.55))     \n",
    "    plt.draw()\n",
    "    plt.pause(0.001)\n",
    "    \n",
    "   \n",
    "    \n",
    "    return;"
   ]
  },
  {
   "cell_type": "code",
   "execution_count": 34,
   "metadata": {},
   "outputs": [
    {
     "name": "stdout",
     "output_type": "stream",
     "text": [
      "Opening first camera...\n",
      "Starting data acquisition...\n",
      "Starting video. Press I,I to exit.\n"
     ]
    },
    {
     "name": "stderr",
     "output_type": "stream",
     "text": [
      "C:\\ProgramData\\Anaconda3\\lib\\site-packages\\numpy\\core\\fromnumeric.py:2920: RuntimeWarning: Mean of empty slice.\n",
      "  out=out, **kwargs)\n",
      "C:\\ProgramData\\Anaconda3\\lib\\site-packages\\numpy\\core\\_methods.py:85: RuntimeWarning: invalid value encountered in double_scalars\n",
      "  ret = ret.dtype.type(ret / rcount)\n"
     ]
    },
    {
     "name": "stdout",
     "output_type": "stream",
     "text": [
      "Stopping acquisition...\n",
      "Done.\n"
     ]
    }
   ],
   "source": [
    "global rect, diameter\n",
    "\n",
    "#create instance for first connected camera \n",
    "cam = xiapi.Camera()\n",
    "\n",
    "\n",
    "#start communication\n",
    "print('Opening first camera...')\n",
    "cam.open_device()\n",
    "\n",
    "#settings\n",
    "#set exposure time in micro-seconds\n",
    "cam.set_exposure(1500)\n",
    "\n",
    "cam.set_gain(6)\n",
    "\n",
    "cam.set_width(2048)\n",
    "\n",
    "cam.set_height(90)\n",
    "\n",
    "cam.set_offsetX(0)\n",
    "\n",
    "cam.set_offsetY(958)\n",
    "\n",
    "\n",
    "#create instance of Image to store image data and metadata\n",
    "img = xiapi.Image()\n",
    "\n",
    "#start data acquisition\n",
    "print('Starting data acquisition...')\n",
    "cam.start_acquisition()\n",
    "\n",
    "global t0, features\n",
    "\n",
    "images = np.array(())\n",
    "\n",
    "   \n",
    "\n",
    "try:\n",
    "    print('Starting video. Press I,I to exit.')\n",
    "    t0 = time.time()\n",
    "    j = time.time()\n",
    "    \n",
    "    \n",
    "    while True:\n",
    "        #get data and pass them from camera to img\n",
    "        cam.get_image(img)\n",
    "        \n",
    "        #create numpy array with data from camera. Dimensions of the array are \n",
    "        #determined by imgdataformat\n",
    "        data = img.get_image_data_numpy()\n",
    "      \n",
    "        if (time.time() - j > 5.0):\n",
    "            \n",
    "            j = time.time()\n",
    "            \n",
    "            images  = (data)\n",
    "            thresholding(images)\n",
    "            ax.clear()\n",
    "            del diameter\n",
    "            \n",
    "            \n",
    "            \n",
    "            \n",
    "        #show acquired image with time since the beginning of acquisition\n",
    "        font = cv2.FONT_HERSHEY_SIMPLEX\n",
    "        \n",
    "        text = ['{:5.2f}'.format(time.time()-t0), str(int(cam.get_framerate()))]\n",
    "        \n",
    "        cv2.putText(\n",
    "            data, text[0], (10,60), font, 1, (255, 255, 255), 2\n",
    "            )\n",
    "        cv2.putText(\n",
    "            data, text[1]+'fps', (300,60), font, 1, (255, 255, 255), 2\n",
    "            )\n",
    "        \n",
    "        \n",
    "        cv2.imshow('XiCAM example', data)\n",
    "    \n",
    "        cv2.waitKey(1)\n",
    "        \n",
    "except KeyboardInterrupt:\n",
    "    cv2.destroyAllWindows()\n",
    "\n",
    "\n",
    "#stop data acquisition\n",
    "print('Stopping acquisition...')\n",
    "cam.stop_acquisition()\n",
    "\n",
    "#stop communication\n",
    "cam.close_device()\n",
    "\n",
    "print('Done.')\n"
   ]
  },
  {
   "cell_type": "code",
   "execution_count": 39,
   "metadata": {},
   "outputs": [],
   "source": [
    "features.to_csv('C:/XIMEA/New Folder/test2 25-10-2018.csv')"
   ]
  },
  {
   "cell_type": "code",
   "execution_count": 38,
   "metadata": {},
   "outputs": [],
   "source": [
    "plt.savefig('25-10-2018 test 2.png',dpi=300)"
   ]
  },
  {
   "cell_type": "code",
   "execution_count": null,
   "metadata": {
    "collapsed": true
   },
   "outputs": [],
   "source": []
  }
 ],
 "metadata": {
  "kernelspec": {
   "display_name": "Python 3",
   "language": "python",
   "name": "python3"
  },
  "language_info": {
   "codemirror_mode": {
    "name": "ipython",
    "version": 3
   },
   "file_extension": ".py",
   "mimetype": "text/x-python",
   "name": "python",
   "nbconvert_exporter": "python",
   "pygments_lexer": "ipython3",
   "version": "3.6.3"
  }
 },
 "nbformat": 4,
 "nbformat_minor": 2
}
